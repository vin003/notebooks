{
    "cells": [
        {
            "cell_type": "markdown",
            "metadata": {
                "collapsed": true
            },
            "source": "## Description \nDemo for data and analysis\n"
        },
        {
            "cell_type": "code",
            "execution_count": 2,
            "metadata": {},
            "outputs": [
                {
                    "data": {
                        "text/html": "<div>\n<style scoped>\n    .dataframe tbody tr th:only-of-type {\n        vertical-align: middle;\n    }\n\n    .dataframe tbody tr th {\n        vertical-align: top;\n    }\n\n    .dataframe thead th {\n        text-align: right;\n    }\n</style>\n<table border=\"1\" class=\"dataframe\">\n  <thead>\n    <tr style=\"text-align: right;\">\n      <th></th>\n      <th>Shipping Data</th>\n      <th>Unnamed: 1</th>\n      <th>Unnamed: 2</th>\n      <th>Unnamed: 3</th>\n      <th>Unnamed: 4</th>\n      <th>Unnamed: 5</th>\n      <th>Unnamed: 6</th>\n      <th>Unnamed: 7</th>\n      <th>Unnamed: 8</th>\n      <th>Unnamed: 9</th>\n      <th>...</th>\n      <th>Unnamed: 16</th>\n      <th>Unnamed: 17</th>\n      <th>Unnamed: 18</th>\n      <th>Unnamed: 19</th>\n      <th>Unnamed: 20</th>\n      <th>Unnamed: 21</th>\n      <th>Unnamed: 22</th>\n      <th>Unnamed: 23</th>\n      <th>Unnamed: 24</th>\n      <th>Unnamed: 25</th>\n    </tr>\n  </thead>\n  <tbody>\n    <tr>\n      <th>1038</th>\n      <td>6579-1</td>\n      <td>2017-02-03 00:00:00</td>\n      <td>2017</td>\n      <td>Alex Russell</td>\n      <td>76 Lindsay Street, Perth</td>\n      <td>Melbourne</td>\n      <td>VIC</td>\n      <td>Home Office</td>\n      <td>E1232</td>\n      <td>High</td>\n      <td>...</td>\n      <td>1.59</td>\n      <td>2.61</td>\n      <td>1.02</td>\n      <td>38</td>\n      <td>99.18</td>\n      <td>0.04</td>\n      <td>3.9672</td>\n      <td>95.2128</td>\n      <td>0.5</td>\n      <td>95.7128</td>\n    </tr>\n    <tr>\n      <th>1039</th>\n      <td>6581-1</td>\n      <td>2017-02-04 00:00:00</td>\n      <td>2017</td>\n      <td>Roland Black</td>\n      <td>438 Victoria Avenue,Chatswood</td>\n      <td>Sydney</td>\n      <td>NSW</td>\n      <td>Small Business</td>\n      <td>E1207</td>\n      <td>High</td>\n      <td>...</td>\n      <td>13.64</td>\n      <td>20.98</td>\n      <td>7.34</td>\n      <td>41</td>\n      <td>860.18</td>\n      <td>0.05</td>\n      <td>43.009</td>\n      <td>817.171</td>\n      <td>1.49</td>\n      <td>818.661</td>\n    </tr>\n    <tr>\n      <th>1040</th>\n      <td>6582-1</td>\n      <td>2017-02-05 00:00:00</td>\n      <td>2017</td>\n      <td>Art Foster</td>\n      <td>14 Money Street, Perth</td>\n      <td>Sydney</td>\n      <td>NSW</td>\n      <td>Home Office</td>\n      <td>E1180</td>\n      <td>Medium</td>\n      <td>...</td>\n      <td>13.64</td>\n      <td>20.98</td>\n      <td>7.34</td>\n      <td>2</td>\n      <td>41.96</td>\n      <td>0.01</td>\n      <td>0.4196</td>\n      <td>41.5404</td>\n      <td>1.49</td>\n      <td>43.0304</td>\n    </tr>\n    <tr>\n      <th>1041</th>\n      <td>6584-1</td>\n      <td>2017-02-07 00:00:00</td>\n      <td>2017</td>\n      <td>Maribeth Yedwab</td>\n      <td>240-242 Johnston Street,Fitzroy</td>\n      <td>Melbourne</td>\n      <td>VIC</td>\n      <td>Home Office</td>\n      <td>E1232</td>\n      <td>Low</td>\n      <td>...</td>\n      <td>6.39</td>\n      <td>19.98</td>\n      <td>13.59</td>\n      <td>31</td>\n      <td>619.38</td>\n      <td>0</td>\n      <td>0</td>\n      <td>619.38</td>\n      <td>4</td>\n      <td>623.38</td>\n    </tr>\n    <tr>\n      <th>1042</th>\n      <td>6586-1</td>\n      <td>2017-02-07 00:00:00</td>\n      <td>2017</td>\n      <td>Theresa Swint</td>\n      <td>240-242 Johnston Street,Fitzroy</td>\n      <td>Melbourne</td>\n      <td>VIC</td>\n      <td>Consumer</td>\n      <td>E1232</td>\n      <td>Medium</td>\n      <td>...</td>\n      <td>0.93</td>\n      <td>1.48</td>\n      <td>0.55</td>\n      <td>10</td>\n      <td>14.8</td>\n      <td>0.1</td>\n      <td>1.48</td>\n      <td>13.32</td>\n      <td>0.7</td>\n      <td>14.02</td>\n    </tr>\n  </tbody>\n</table>\n<p>5 rows \u00d7 26 columns</p>\n</div>",
                        "text/plain": "      Shipping Data           Unnamed: 1 Unnamed: 2       Unnamed: 3  \\\n1038         6579-1  2017-02-03 00:00:00       2017     Alex Russell   \n1039         6581-1  2017-02-04 00:00:00       2017     Roland Black   \n1040         6582-1  2017-02-05 00:00:00       2017       Art Foster   \n1041         6584-1  2017-02-07 00:00:00       2017  Maribeth Yedwab   \n1042         6586-1  2017-02-07 00:00:00       2017    Theresa Swint   \n\n                           Unnamed: 4 Unnamed: 5 Unnamed: 6      Unnamed: 7  \\\n1038         76 Lindsay Street, Perth  Melbourne        VIC     Home Office   \n1039    438 Victoria Avenue,Chatswood     Sydney        NSW  Small Business   \n1040           14 Money Street, Perth     Sydney        NSW     Home Office   \n1041  240-242 Johnston Street,Fitzroy  Melbourne        VIC     Home Office   \n1042  240-242 Johnston Street,Fitzroy  Melbourne        VIC        Consumer   \n\n     Unnamed: 8 Unnamed: 9  ... Unnamed: 16 Unnamed: 17 Unnamed: 18  \\\n1038      E1232       High  ...        1.59        2.61        1.02   \n1039      E1207       High  ...       13.64       20.98        7.34   \n1040      E1180     Medium  ...       13.64       20.98        7.34   \n1041      E1232        Low  ...        6.39       19.98       13.59   \n1042      E1232     Medium  ...        0.93        1.48        0.55   \n\n     Unnamed: 19 Unnamed: 20 Unnamed: 21 Unnamed: 22 Unnamed: 23 Unnamed: 24  \\\n1038          38       99.18        0.04      3.9672     95.2128         0.5   \n1039          41      860.18        0.05      43.009     817.171        1.49   \n1040           2       41.96        0.01      0.4196     41.5404        1.49   \n1041          31      619.38           0           0      619.38           4   \n1042          10        14.8         0.1        1.48       13.32         0.7   \n\n     Unnamed: 25  \n1038     95.7128  \n1039     818.661  \n1040     43.0304  \n1041      623.38  \n1042       14.02  \n\n[5 rows x 26 columns]"
                    },
                    "execution_count": 2,
                    "metadata": {},
                    "output_type": "execute_result"
                }
            ],
            "source": "# The code was removed by Watson Studio for sharing."
        },
        {
            "cell_type": "code",
            "execution_count": null,
            "metadata": {},
            "outputs": [],
            "source": ""
        }
    ],
    "metadata": {
        "kernelspec": {
            "display_name": "Python 3.6",
            "language": "python",
            "name": "python3"
        },
        "language_info": {
            "codemirror_mode": {
                "name": "ipython",
                "version": 3
            },
            "file_extension": ".py",
            "mimetype": "text/x-python",
            "name": "python",
            "nbconvert_exporter": "python",
            "pygments_lexer": "ipython3",
            "version": "3.6.9"
        }
    },
    "nbformat": 4,
    "nbformat_minor": 1
}